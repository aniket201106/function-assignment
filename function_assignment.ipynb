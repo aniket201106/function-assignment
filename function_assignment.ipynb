{
  "nbformat": 4,
  "nbformat_minor": 0,
  "metadata": {
    "colab": {
      "provenance": []
    },
    "kernelspec": {
      "name": "python3",
      "display_name": "Python 3"
    },
    "language_info": {
      "name": "python"
    }
  },
  "cells": [
    {
      "cell_type": "markdown",
      "source": [
        "# Function Assignment"
      ],
      "metadata": {
        "id": "wNSyXs8npNlD"
      }
    },
    {
      "cell_type": "markdown",
      "source": [
        "1  What is the difference between a function and a method in Python?\n",
        "\n",
        "  - Function: A function is a block of reusable code that performs a specific task. It is defined using the def keyword and can exist independently.\n",
        "\n",
        "  Method: A method is similar to a function but is associated with an object and is called using the object name. It is defined inside a class.\n",
        "\n",
        "2  Explain the concept of function arguments and parameters in Python.\n",
        "\n",
        " - Parameters: These are variables listed in the function definition.\n",
        "\n",
        "  Arguments: These are actual values passed to the function during the call.\n",
        "\n",
        "3  What are the different ways to define and call a function in Python?\n",
        "\n",
        "  - Definition: Using the def keyword followed by the function name and parameters.\n",
        "\n",
        "Calling: By using the function name followed by parentheses and required arguments.\n",
        "\n",
        "Types of functions:\n",
        "\n",
        "Built-in functions (len(), print())\n",
        "\n",
        "User-defined functions (def add(a, b):)\n",
        "\n",
        "Lambda functions (anonymous)\n",
        "\n",
        "4 What is the purpose of the `return` statement in a Python function?\n",
        "\n",
        "  - The return statement is used to exit a function and send back a result to the caller.\n",
        "\n",
        "  If no return is used, the function returns None by default.\n",
        "\n",
        "  You can also return multiple values using a comma.\n",
        "\n",
        "5  What are iterators in Python and how do they differ from iterables?\n",
        "\n",
        "  - Iterable: An object which can be looped over (like list, string, tuple).\n",
        "\n",
        "  Iterator: An object with a state that remembers where it is during iteration and implements __iter__() and __next__() methods.\n",
        "\n",
        "Difference:\n",
        "\n",
        "Iterables can be converted to iterators using iter().\n",
        "\n",
        "Iterators produce one value at a time using next().\n",
        "\n",
        "6 Explain the concept of generators in Python and how they are defined.\n",
        "\n",
        "  - Generators are special functions that return an iterator object using the yield keyword instead of return.\n",
        "\n",
        "  They do not store the entire sequence in memory, generating values on the fly.\n",
        "\n",
        "7 What are the advantages of using generators over regular functions?\n",
        "\n",
        "  - Memory Efficient: Only one item is loaded at a time.\n",
        "\n",
        "  Faster Execution: Suitable for large datasets.\n",
        "\n",
        "  Lazy Evaluation: Values generated only when required.\n",
        "\n",
        "  Cleaner Code: Used in loops, pipelines.\n",
        "\n",
        "8 What is a lambda function in Python and when is it typically used?\n",
        "\n",
        "  - Lambda is a small anonymous function defined using the lambda keyword.\n",
        "\n",
        "  It can take any number of arguments but has only one expression.\n",
        "\n",
        "9 Explain the purpose and usage of the `map()` function in Python.\n",
        "\n",
        "  - map() applies a given function to every item in an iterable and returns a map object.\n",
        "\n",
        "  Syntax: map(function, iterable)\n",
        "\n",
        "  Purpose: Transform all elements of a list or tuple using the function.\n",
        "\n",
        "10 What is the difference between `map()`, `reduce()`, and `filter()` functions in Python?\n",
        "\n",
        "  - | Function     | Purpose                            | Returns       |\n",
        "| ------------ | ---------------------------------- | ------------- |\n",
        "| map()    | Applies a function to all items    | Map object    |\n",
        "| filter() | Filters items based on condition   | Filter object |\n",
        "| reduce() | Reduces iterable to a single value | Final result  |\n",
        "\n",
        "11  Using pen & Paper write the internal mechanism for sum operation using  reduce function on this given\n",
        "list:[47,11,42,13];\n",
        "\n",
        "  - steps:\n",
        "\n",
        "Initial list: [47, 11, 42, 13]\n",
        "Step 1: 47 + 11 = 58\n",
        "Step 2: 58 + 42 = 100\n",
        "Step 3: 100 + 13 = 113\n",
        "\n",
        "Final Result: 113"
      ],
      "metadata": {
        "id": "Xwn-JXLgpwsp"
      }
    },
    {
      "cell_type": "code",
      "execution_count": 4,
      "metadata": {
        "id": "IiELu-ogoxrr"
      },
      "outputs": [],
      "source": [
        "#Practical Questions"
      ]
    },
    {
      "cell_type": "code",
      "source": [
        "#1 Write a Python function that takes a list of numbers as input and returns the sum of all even numbers in\n",
        "the list."
      ],
      "metadata": {
        "id": "o5pVVcJvtIrc"
      },
      "execution_count": 3,
      "outputs": []
    },
    {
      "cell_type": "code",
      "source": [
        "def sum_of_even(numbers):\n",
        "    return sum(num for num in numbers if num % 2 == 0)\n",
        "\n",
        "print(sum_of_even([1, 2, 3, 4, 5, 6]))\n"
      ],
      "metadata": {
        "colab": {
          "base_uri": "https://localhost:8080/"
        },
        "id": "eGt080m5tR9j",
        "outputId": "7809a856-248f-4f52-9186-c173f8650614"
      },
      "execution_count": 5,
      "outputs": [
        {
          "output_type": "stream",
          "name": "stdout",
          "text": [
            "12\n"
          ]
        }
      ]
    },
    {
      "cell_type": "code",
      "source": [
        "#2  Create a Python function that accepts a string and returns the reverse of that string.\n",
        "def reverse_string(s):\n",
        "    return s[::-1]\n",
        "\n",
        "print(reverse_string(\"hello\"))\n"
      ],
      "metadata": {
        "colab": {
          "base_uri": "https://localhost:8080/"
        },
        "id": "G_OzwEpFubsk",
        "outputId": "5bd3a9f8-03dd-49ce-9cf6-afddd0ac1d26"
      },
      "execution_count": 6,
      "outputs": [
        {
          "output_type": "stream",
          "name": "stdout",
          "text": [
            "olleh\n"
          ]
        }
      ]
    },
    {
      "cell_type": "code",
      "source": [
        "#3 Implement a Python function that takes a list of integers and returns a new list containing the squares of each number.\n",
        "\n",
        "def square_list(nums):\n",
        "    return [x ** 2 for x in nums]\n",
        "\n",
        "print(square_list([1, 2, 3]))\n"
      ],
      "metadata": {
        "colab": {
          "base_uri": "https://localhost:8080/"
        },
        "id": "8aRGEy4gxXpS",
        "outputId": "9eb8b642-df5b-44b8-9371-0aa4dd606169"
      },
      "execution_count": 10,
      "outputs": [
        {
          "output_type": "stream",
          "name": "stdout",
          "text": [
            "[1, 4, 9]\n"
          ]
        }
      ]
    },
    {
      "cell_type": "code",
      "source": [
        "#4 Write a Python function that checks if a given number is prime or not from 1 to 200.\n",
        "def is_prime(n):\n",
        "    if n < 2:\n",
        "        return False\n",
        "    for i in range(2, int(n ** 0.5)+1):\n",
        "        if n % i == 0:\n",
        "            return False\n",
        "    return True\n",
        "\n",
        "print(is_prime(7))   # Prime\n",
        "print(is_prime(10))  # Not prime\n"
      ],
      "metadata": {
        "colab": {
          "base_uri": "https://localhost:8080/"
        },
        "id": "8lf3wvEYxz4n",
        "outputId": "69e5e79f-c052-4146-8891-341b564b7176"
      },
      "execution_count": 11,
      "outputs": [
        {
          "output_type": "stream",
          "name": "stdout",
          "text": [
            "True\n",
            "False\n"
          ]
        }
      ]
    },
    {
      "cell_type": "code",
      "source": [
        " #5 Create an iterator class in Python that generates the Fibonacci sequence up to a specified number of terms.\n",
        " class Fibonacci:\n",
        "    def __init__(self, max_terms):\n",
        "        self.a, self.b = 0, 1\n",
        "        self.count = 0\n",
        "        self.max = max_terms\n",
        "\n",
        "    def __iter__(self):\n",
        "        return self\n",
        "\n",
        "    def __next__(self):\n",
        "        if self.count >= self.max:\n",
        "            raise StopIteration\n",
        "        self.a, self.b = self.b, self.a + self.b\n",
        "        self.count += 1\n",
        "        return self.a\n",
        "\n",
        "fib = Fibonacci(5)\n",
        "for num in fib:\n",
        "    print(num)\n"
      ],
      "metadata": {
        "colab": {
          "base_uri": "https://localhost:8080/"
        },
        "id": "4p0ZTp-Cyath",
        "outputId": "50b3d013-befb-4561-9d3e-4b8a790f1a89"
      },
      "execution_count": 12,
      "outputs": [
        {
          "output_type": "stream",
          "name": "stdout",
          "text": [
            "1\n",
            "1\n",
            "2\n",
            "3\n",
            "5\n"
          ]
        }
      ]
    },
    {
      "cell_type": "code",
      "source": [
        "#6  Write a generator function in Python that yields the powers of 2 up to a given exponent.\n",
        "def powers_of_two(n):\n",
        "    for i in range(n + 1):\n",
        "        yield 2 ** i\n",
        "\n",
        "for val in powers_of_two(4):\n",
        "    print(val)\n"
      ],
      "metadata": {
        "colab": {
          "base_uri": "https://localhost:8080/"
        },
        "id": "iHf_Lkxqy1bi",
        "outputId": "ef03ddf7-a387-48aa-c82e-dce76b96137f"
      },
      "execution_count": 13,
      "outputs": [
        {
          "output_type": "stream",
          "name": "stdout",
          "text": [
            "1\n",
            "2\n",
            "4\n",
            "8\n",
            "16\n"
          ]
        }
      ]
    },
    {
      "cell_type": "code",
      "source": [
        "#7  Implement a generator function that reads a file line by line and yields each line as a string.\n",
        "def read_file_generator():\n",
        "    lines = [\"line 1\", \"line 2\", \"line 3\"]\n",
        "    for line in lines:\n",
        "        yield line\n",
        "\n",
        "for line in read_file_generator():\n",
        "    print(line)\n"
      ],
      "metadata": {
        "colab": {
          "base_uri": "https://localhost:8080/"
        },
        "id": "CaGIsIxXzC_t",
        "outputId": "88efb015-9089-4f11-cb4e-c206902ee105"
      },
      "execution_count": 14,
      "outputs": [
        {
          "output_type": "stream",
          "name": "stdout",
          "text": [
            "line 1\n",
            "line 2\n",
            "line 3\n"
          ]
        }
      ]
    },
    {
      "cell_type": "code",
      "source": [
        "#8  Use a lambda function in Python to sort a list of tuples based on the second element of each tuple.\n",
        "tuples = [(1, 5), (3, 2), (7, 1)]\n",
        "sorted_list = sorted(tuples, key=lambda x: x[1])\n",
        "print(sorted_list)\n"
      ],
      "metadata": {
        "colab": {
          "base_uri": "https://localhost:8080/"
        },
        "id": "THzMIA1EzKcw",
        "outputId": "c36625cf-a849-4b01-bf63-290c02d8d1c4"
      },
      "execution_count": 15,
      "outputs": [
        {
          "output_type": "stream",
          "name": "stdout",
          "text": [
            "[(7, 1), (3, 2), (1, 5)]\n"
          ]
        }
      ]
    },
    {
      "cell_type": "code",
      "source": [
        "#9 Write a Python program that uses `map()` to convert a list of temperatures from Celsius to Fahrenheit\n",
        "celsius = [0, 20, 37, 100]\n",
        "fahrenheit = list(map(lambda c: (c * 9/5) + 32, celsius))\n",
        "print(fahrenheit)\n"
      ],
      "metadata": {
        "colab": {
          "base_uri": "https://localhost:8080/"
        },
        "id": "tAPNW9IZzT-1",
        "outputId": "0eca6505-1454-4f36-f348-5314e051c77d"
      },
      "execution_count": 16,
      "outputs": [
        {
          "output_type": "stream",
          "name": "stdout",
          "text": [
            "[32.0, 68.0, 98.6, 212.0]\n"
          ]
        }
      ]
    },
    {
      "cell_type": "code",
      "source": [
        "#10  Create a Python program that uses `filter()` to remove all the vowels from a given string.\n",
        "def remove_vowels(s):\n",
        "    return ''.join(filter(lambda x: x.lower() not in 'aeiou', s))\n",
        "\n",
        "print(remove_vowels(\"education\"))\n"
      ],
      "metadata": {
        "colab": {
          "base_uri": "https://localhost:8080/"
        },
        "id": "tRApsZwmzjAI",
        "outputId": "bc5be58e-2d1d-42b2-b2c6-ea0e47e9597c"
      },
      "execution_count": 17,
      "outputs": [
        {
          "output_type": "stream",
          "name": "stdout",
          "text": [
            "dctn\n"
          ]
        }
      ]
    },
    {
      "cell_type": "code",
      "source": [
        "#11\n",
        "orders =     [[34587, \"Learning Python, Mark Lutz\", 4, 40.95],\n",
        "              [98762, \"Programming Python, Mark Lutz\", 5, 56.80],\n",
        "              [77226, \"Head First Python, Paul Barry\", 3, 32.95],\n",
        "              [88112, \"Einführung in Python3, Bernd Klein\", 3, 24.99]]\n",
        "\n",
        "# Using lambda and map\n",
        "result = list(map(lambda order:(order[0], order[2] * order[3] + 10 if order[2] * order[3] < 100 else order[2] * order[3]),orders))\n",
        "print(result) # Ensure this print statement is also aligned correctly"
      ],
      "metadata": {
        "colab": {
          "base_uri": "https://localhost:8080/"
        },
        "id": "-Mmk6ft90abZ",
        "outputId": "4c8b1d15-5a6e-4598-d0c2-2d037159371d"
      },
      "execution_count": 25,
      "outputs": [
        {
          "output_type": "stream",
          "name": "stdout",
          "text": [
            "[(34587, 163.8), (98762, 284.0), (77226, 108.85000000000001), (88112, 84.97)]\n"
          ]
        }
      ]
    },
    {
      "cell_type": "code",
      "source": [],
      "metadata": {
        "id": "c2IPlg-G1IZ1"
      },
      "execution_count": null,
      "outputs": []
    }
  ]
}